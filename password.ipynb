{
 "cells": [
  {
   "cell_type": "code",
   "execution_count": 2,
   "metadata": {},
   "outputs": [
    {
     "name": "stdout",
     "output_type": "stream",
     "text": [
      "Password Strength: Very Strong\n"
     ]
    }
   ],
   "source": [
    "import re\n",
    "\n",
    "def password_strength_checker(password):\n",
    "    # Criteria\n",
    "    length_criteria = len(password) >= 8\n",
    "    lowercase_criteria = bool(re.search(r'[a-z]', password))\n",
    "    uppercase_criteria = bool(re.search(r'[A-Z]', password))\n",
    "    number_criteria = bool(re.search(r'[0-9]', password))\n",
    "    special_char_criteria = bool(re.search(r'[\\W_]', password))\n",
    "    \n",
    "    # Count criteria met\n",
    "    criteria_met = sum([\n",
    "        length_criteria,\n",
    "        lowercase_criteria,\n",
    "        uppercase_criteria,\n",
    "        number_criteria,\n",
    "        special_char_criteria\n",
    "    ])\n",
    "    \n",
    "    # Determine strength based on criteria met\n",
    "    if criteria_met == 5:\n",
    "        strength = \"Very Strong\"\n",
    "    elif criteria_met == 4:\n",
    "        strength = \"Strong\"\n",
    "    elif criteria_met == 3:\n",
    "        strength = \"Moderate\"\n",
    "    elif criteria_met == 2:\n",
    "        strength = \"Weak\"\n",
    "    else:\n",
    "        strength = \"Very Weak\"\n",
    "    \n",
    "    # Feedback for the user\n",
    "    feedback = []\n",
    "    if not length_criteria:\n",
    "        feedback.append(\"Password should be at least 8 characters long.\")\n",
    "    if not lowercase_criteria:\n",
    "        feedback.append(\"Password should include lowercase letters.\")\n",
    "    if not uppercase_criteria:\n",
    "        feedback.append(\"Password should include uppercase letters.\")\n",
    "    if not number_criteria:\n",
    "        feedback.append(\"Password should include numbers.\")\n",
    "    if not special_char_criteria:\n",
    "        feedback.append(\"Password should include special characters.\")\n",
    "    \n",
    "    return strength, feedback\n",
    "\n",
    "# Example usage\n",
    "password = input(\"Enter your password: \")\n",
    "strength, feedback = password_strength_checker(password)\n",
    "\n",
    "print(f\"Password Strength: {strength}\")\n",
    "if feedback:\n",
    "    print(\"Feedback:\")\n",
    "    for f in feedback:\n",
    "        print(f\" - {f}\")"
   ]
  }
 ],
 "metadata": {
  "kernelspec": {
   "display_name": "Python 3",
   "language": "python",
   "name": "python3"
  },
  "language_info": {
   "codemirror_mode": {
    "name": "ipython",
    "version": 3
   },
   "file_extension": ".py",
   "mimetype": "text/x-python",
   "name": "python",
   "nbconvert_exporter": "python",
   "pygments_lexer": "ipython3",
   "version": "3.10.11"
  }
 },
 "nbformat": 4,
 "nbformat_minor": 2
}
